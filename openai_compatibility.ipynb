{
 "cells": [
  {
   "cell_type": "code",
   "execution_count": 1,
   "metadata": {},
   "outputs": [
    {
     "data": {
      "text/plain": [
       "SyncPage[Model](data=[Model(id='HF://mlc-ai/Llama-3-8B-Instruct-q4f16_1-MLC', created=1715240606, object='model', owned_by='MLC-LLM')], object='list')"
      ]
     },
     "execution_count": 1,
     "metadata": {},
     "output_type": "execute_result"
    }
   ],
   "source": [
    "from openai import OpenAI\n",
    "\n",
    "client = OpenAI(base_url='http://localhost:3000/v1', api_key='na')\n",
    "\n",
    "# Use the following func to get the available models\n",
    "client.models.list()"
   ]
  },
  {
   "cell_type": "code",
   "execution_count": 7,
   "metadata": {},
   "outputs": [
    {
     "name": "stdout",
     "output_type": "stream",
     "text": [
      "Oh boy, superconductors are really cool!\n",
      "\n",
      "So, you know how sometimes you put a magnet under a paper clip, and it makes the paper clip move around, right? That's because the magnet is making the paper clip magnetic too, and they stick together.\n",
      "\n",
      "Well, superconductors are special kinds of materials that can do something really cool. When they're cold - like, really, really cold - they can make magnets move around without any strings attached!\n",
      "\n",
      "Imagine you have a toy car with a magnet under it, and you put it on a track made of superconductor material. When you turn on the cold, the magnet will start moving around the track, all by itself! It's like the track is magic, and it's making the magnet do tricks!\n",
      "\n",
      "But that's not all - superconductors can also make electricity flow through them without any resistance. Resistance is like when you try to push a toy car through the sand, and it gets stuck. With superconductors, it's like the car can just zoom through the sand easily, without getting stuck!\n",
      "\n",
      "Superconductors are really important because they can help us make new, special things, like super-fast trains, or really strong magnets. They're also used in special kinds of computers and medical equipment.\n",
      "\n",
      "So, that's superconductors in a nutshell! They're special materials that can make magnets move around without strings, and help electricity flow really easily. And who knows, maybe one day you'll invent something amazing using superconductors!"
     ]
    }
   ],
   "source": [
    "chat_completion = client.chat.completions.create(\n",
    "    model=\"HF://mlc-ai/Llama-3-8B-Instruct-q4f16_1-MLC\",\n",
    "    messages=[\n",
    "        {\n",
    "            \"role\": \"user\",\n",
    "            \"content\": \"Explain superconductors like I'm five years old\"\n",
    "        }\n",
    "    ],\n",
    "    stream=True,\n",
    ")\n",
    "\n",
    "for chunk in chat_completion:\n",
    "    # Extract and print the content of the model's reply\n",
    "    print(chunk.choices[0].delta.content or \"\", end=\"\")"
   ]
  }
 ],
 "metadata": {
  "kernelspec": {
   "display_name": "bento",
   "language": "python",
   "name": "python3"
  },
  "language_info": {
   "codemirror_mode": {
    "name": "ipython",
    "version": 3
   },
   "file_extension": ".py",
   "mimetype": "text/x-python",
   "name": "python",
   "nbconvert_exporter": "python",
   "pygments_lexer": "ipython3",
   "version": "3.12.3"
  }
 },
 "nbformat": 4,
 "nbformat_minor": 2
}
